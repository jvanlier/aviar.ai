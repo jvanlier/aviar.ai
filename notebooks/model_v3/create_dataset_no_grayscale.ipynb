{
 "cells": [
  {
   "cell_type": "code",
   "execution_count": 55,
   "metadata": {},
   "outputs": [],
   "source": [
    "from pathlib import Path\n",
    "\n",
    "import numpy as np\n",
    "import matplotlib.pyplot as plt\n",
    "from tqdm import tqdm\n",
    "import shutil"
   ]
  },
  {
   "cell_type": "code",
   "execution_count": 15,
   "metadata": {},
   "outputs": [],
   "source": [
    "p = sorted(Path(\"~/data/split-v3-time\").expanduser().glob(\"*/*/*.jpeg\"))"
   ]
  },
  {
   "cell_type": "code",
   "execution_count": 28,
   "metadata": {},
   "outputs": [
    {
     "data": {
      "text/plain": [
       "[PosixPath('/home/jvlier/data/split-v3-time/train/BirdHome/20200427T031601.jpeg'),\n",
       " PosixPath('/home/jvlier/data/split-v3-time/train/BirdHome/20200427T032501.jpeg'),\n",
       " PosixPath('/home/jvlier/data/split-v3-time/train/BirdHome/20200427T032601.jpeg'),\n",
       " PosixPath('/home/jvlier/data/split-v3-time/train/BirdHome/20200427T033501.jpeg'),\n",
       " PosixPath('/home/jvlier/data/split-v3-time/train/BirdHome/20200427T033601.jpeg'),\n",
       " PosixPath('/home/jvlier/data/split-v3-time/train/BirdHome/20200427T035101.jpeg'),\n",
       " PosixPath('/home/jvlier/data/split-v3-time/train/BirdHome/20200427T035901.jpeg'),\n",
       " PosixPath('/home/jvlier/data/split-v3-time/train/BirdHome/20200427T040101.jpeg'),\n",
       " PosixPath('/home/jvlier/data/split-v3-time/train/BirdHome/20200427T040201.jpeg'),\n",
       " PosixPath('/home/jvlier/data/split-v3-time/train/BirdHome/20200427T040801.jpeg')]"
      ]
     },
     "execution_count": 28,
     "metadata": {},
     "output_type": "execute_result"
    }
   ],
   "source": [
    "start = 400\n",
    "p[start:start+10]"
   ]
  },
  {
   "cell_type": "code",
   "execution_count": 50,
   "metadata": {},
   "outputs": [],
   "source": [
    "def is_gray(img):\n",
    "     return np.all(img[:, :, 0] == img[:, :, 1])"
   ]
  },
  {
   "cell_type": "code",
   "execution_count": 53,
   "metadata": {},
   "outputs": [],
   "source": [
    "# for img_path in np.random.choice(p, size=50):\n",
    "#     img = plt.imread(img_path)\n",
    "#     plt.imshow(img)\n",
    "#     plt.title(f\"Gray: {is_gray(img)}\")\n",
    "#     plt.show()"
   ]
  },
  {
   "cell_type": "code",
   "execution_count": 58,
   "metadata": {},
   "outputs": [
    {
     "name": "stderr",
     "output_type": "stream",
     "text": [
      "100%|██████████| 15739/15739 [03:26<00:00, 76.32it/s]\n"
     ]
    }
   ],
   "source": [
    "for img_path in tqdm(p):\n",
    "    gray = is_gray(plt.imread(img_path))\n",
    "    if not gray:\n",
    "        img_path_new = Path(str(img_path).replace(\"split-v3-time\", \"split-v3-time-nongray\"))\n",
    "        img_path_new.parent.mkdir(parents=True, exist_ok=True)\n",
    "        shutil.copy(img_path, img_path_new)"
   ]
  },
  {
   "cell_type": "code",
   "execution_count": null,
   "metadata": {},
   "outputs": [],
   "source": []
  }
 ],
 "metadata": {
  "kernelspec": {
   "display_name": "Python 3",
   "language": "python",
   "name": "python3"
  },
  "language_info": {
   "codemirror_mode": {
    "name": "ipython",
    "version": 3
   },
   "file_extension": ".py",
   "mimetype": "text/x-python",
   "name": "python",
   "nbconvert_exporter": "python",
   "pygments_lexer": "ipython3",
   "version": "3.7.5"
  }
 },
 "nbformat": 4,
 "nbformat_minor": 4
}
