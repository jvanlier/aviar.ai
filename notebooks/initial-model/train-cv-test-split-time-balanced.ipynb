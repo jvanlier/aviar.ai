{
 "cells": [
  {
   "cell_type": "markdown",
   "metadata": {},
   "source": [
    "This notebook performs a simple train/cv/test split for the very first classification model."
   ]
  },
  {
   "cell_type": "code",
   "execution_count": 18,
   "metadata": {},
   "outputs": [],
   "source": [
    "from pathlib import Path\n",
    "import shutil\n",
    "\n",
    "import numpy as np"
   ]
  },
  {
   "cell_type": "code",
   "execution_count": 19,
   "metadata": {},
   "outputs": [],
   "source": [
    "BASE_PATH = Path(\"~/data/labeled\").expanduser()\n",
    "DEST_BASE_PATH = BASE_PATH.parent / \"split-balanced\"\n",
    "DEST_BASE_PATH.mkdir(exist_ok=True)"
   ]
  },
  {
   "cell_type": "code",
   "execution_count": 20,
   "metadata": {},
   "outputs": [],
   "source": [
    "label_pos = \"BirdHome\"\n",
    "label_neg = \"BirdRoaming\""
   ]
  },
  {
   "cell_type": "code",
   "execution_count": 21,
   "metadata": {},
   "outputs": [],
   "source": [
    "def glob_print(label):\n",
    "    path = BASE_PATH / label\n",
    "    glob = list(path.glob(\"*.jpeg\"))\n",
    "    print(f\"{path.name}: {len(glob)} images\")\n",
    "    return glob"
   ]
  },
  {
   "cell_type": "code",
   "execution_count": 22,
   "metadata": {},
   "outputs": [
    {
     "name": "stdout",
     "output_type": "stream",
     "text": [
      "BirdHome: 4221 images\n",
      "BirdRoaming: 1444 images\n"
     ]
    }
   ],
   "source": [
    "files_pos = glob_print(label_pos)\n",
    "files_neg = glob_print(label_neg)\n",
    "max_single_class = min(len(files_pos), len(files_neg))\n",
    "\n",
    "files_pos = sorted(np.random.choice(files_pos, size=max_single_class, replace=False))\n",
    "files_neg = sorted(np.random.choice(files_neg, size=max_single_class, replace=False))"
   ]
  },
  {
   "cell_type": "code",
   "execution_count": 23,
   "metadata": {},
   "outputs": [],
   "source": [
    "SPLIT = [.6, .2, .2]\n",
    "SPLIT_NAMES = [\"train\", \"cv\", \"test\"]"
   ]
  },
  {
   "cell_type": "code",
   "execution_count": 24,
   "metadata": {},
   "outputs": [
    {
     "name": "stdout",
     "output_type": "stream",
     "text": [
      "Selected 866 jpegs to copy to /home/jvlier/data/split-balanced/train/BirdRoaming\n",
      "Selected 289 jpegs to copy to /home/jvlier/data/split-balanced/cv/BirdRoaming\n",
      "Selected 289 jpegs to copy to /home/jvlier/data/split-balanced/test/BirdRoaming\n",
      "Selected 866 jpegs to copy to /home/jvlier/data/split-balanced/train/BirdHome\n",
      "Selected 289 jpegs to copy to /home/jvlier/data/split-balanced/cv/BirdHome\n",
      "Selected 289 jpegs to copy to /home/jvlier/data/split-balanced/test/BirdHome\n"
     ]
    }
   ],
   "source": [
    "for files in [files_neg, files_pos]:\n",
    "    label = files[0].parent.name\n",
    "    \n",
    "    n = len(files)\n",
    "    current_idx = 0\n",
    "    for split_frac, split_name in zip(SPLIT, SPLIT_NAMES):\n",
    "        dest_path = DEST_BASE_PATH / split_name / label\n",
    "        dest_path.mkdir(exist_ok=True, parents=True)\n",
    "        \n",
    "        num_to_select = round(n * split_frac)\n",
    "        sel_files = files[current_idx:current_idx + num_to_select]    \n",
    "        print(f\"Selected {len(sel_files)} jpegs to copy to {dest_path}\")\n",
    "        \n",
    "        for jpeg in sel_files:\n",
    "            shutil.copy(jpeg, dest_path)\n",
    "        \n",
    "        current_idx += num_to_select    "
   ]
  },
  {
   "cell_type": "code",
   "execution_count": null,
   "metadata": {},
   "outputs": [],
   "source": []
  }
 ],
 "metadata": {
  "kernelspec": {
   "display_name": "Python 3",
   "language": "python",
   "name": "python3"
  },
  "language_info": {
   "codemirror_mode": {
    "name": "ipython",
    "version": 3
   },
   "file_extension": ".py",
   "mimetype": "text/x-python",
   "name": "python",
   "nbconvert_exporter": "python",
   "pygments_lexer": "ipython3",
   "version": "3.7.5"
  }
 },
 "nbformat": 4,
 "nbformat_minor": 4
}
