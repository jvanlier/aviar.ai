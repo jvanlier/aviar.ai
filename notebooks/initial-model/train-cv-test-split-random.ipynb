{
 "cells": [
  {
   "cell_type": "markdown",
   "metadata": {},
   "source": [
    "This notebook performs a simple train/cv/test split for the very first classification model."
   ]
  },
  {
   "cell_type": "code",
   "execution_count": 1,
   "metadata": {},
   "outputs": [],
   "source": [
    "from pathlib import Path\n",
    "import shutil"
   ]
  },
  {
   "cell_type": "code",
   "execution_count": 2,
   "metadata": {},
   "outputs": [],
   "source": [
    "BASE_PATH = Path(\"~/data\").expanduser()\n",
    "LABELED_PATHS = [\n",
    "    BASE_PATH / \"labeled-first-batch\",\n",
    "    BASE_PATH / \"labeled-second-batch\",\n",
    "]\n",
    "DEST_PATH = BASE_PATH / \"split-v2-random\"\n",
    "DEST_PATH.mkdir(exist_ok=True)"
   ]
  },
  {
   "cell_type": "code",
   "execution_count": 3,
   "metadata": {},
   "outputs": [],
   "source": [
    "label_birdhome = \"BirdHome\"\n",
    "label_birdroam = \"BirdRoaming\""
   ]
  },
  {
   "cell_type": "code",
   "execution_count": 4,
   "metadata": {},
   "outputs": [],
   "source": [
    "def glob_print(label):\n",
    "    result = []\n",
    "    for labeled_path in LABELED_PATHS:\n",
    "        path = labeled_path / label\n",
    "        result.extend(list(path.glob(\"*.jpeg\")))\n",
    "\n",
    "    num = len(result)\n",
    "    print(f\"{path.name}: {num} images\")\n",
    "    return result, num"
   ]
  },
  {
   "cell_type": "code",
   "execution_count": 5,
   "metadata": {},
   "outputs": [
    {
     "name": "stdout",
     "output_type": "stream",
     "text": [
      "BirdHome: 9050 images\n",
      "BirdRoaming: 1700 images\n"
     ]
    }
   ],
   "source": [
    "files_birdhome, num_birdhome = glob_print(label_birdhome) \n",
    "files_birdroam, num_birdroam = glob_print(label_birdroam)"
   ]
  },
  {
   "cell_type": "markdown",
   "metadata": {},
   "source": [
    "Ok, It's not balanced. No worries. I still want to use all of this rather than sample. Just gotta be a \n",
    "bit careful interpreting accuracy."
   ]
  },
  {
   "cell_type": "code",
   "execution_count": 6,
   "metadata": {},
   "outputs": [
    {
     "name": "stdout",
     "output_type": "stream",
     "text": [
      "Baseline accuracy (always predict majority) is: 0.842\n"
     ]
    }
   ],
   "source": [
    "total = num_birdhome + num_birdroam\n",
    "baseline_accuracy = max(num_birdhome, num_birdroam) / total\n",
    "print(f\"Baseline accuracy (always predict majority) is: {baseline_accuracy:.3f}\")"
   ]
  },
  {
   "cell_type": "markdown",
   "metadata": {},
   "source": [
    "Split is a simple time series split (random sampling would put too many similar images across train and valid, inflating the result).\n",
    "\n",
    "Not including a test set this time around, because I'm not going to do any excessive model tuning and will be validating & constantly improving it (active learning) once it's in production. I'm aware of the risk of overfitting to valid set."
   ]
  },
  {
   "cell_type": "code",
   "execution_count": 7,
   "metadata": {},
   "outputs": [],
   "source": [
    "SPLIT = [.8, .2]\n",
    "SPLIT_NAMES = [\"train\", \"valid\"]"
   ]
  },
  {
   "cell_type": "code",
   "execution_count": 8,
   "metadata": {},
   "outputs": [],
   "source": [
    "import numpy as np"
   ]
  },
  {
   "cell_type": "code",
   "execution_count": 11,
   "metadata": {},
   "outputs": [
    {
     "name": "stdout",
     "output_type": "stream",
     "text": [
      "Selected 7240 jpegs to copy to /home/jvlier/data/split-v2-random/train/BirdHome\n",
      "Selected 1810 jpegs to copy to /home/jvlier/data/split-v2-random/valid/BirdHome\n",
      "Selected 1360 jpegs to copy to /home/jvlier/data/split-v2-random/train/BirdRoaming\n",
      "Selected 340 jpegs to copy to /home/jvlier/data/split-v2-random/valid/BirdRoaming\n"
     ]
    }
   ],
   "source": [
    "for files in [files_birdhome, files_birdroam]:\n",
    "    label = files[0].parent.name\n",
    "    \n",
    "    n = len(files)\n",
    "    for split_frac, split_name in zip(SPLIT, SPLIT_NAMES):\n",
    "        dest_path = DEST_PATH / split_name / label\n",
    "        dest_path.mkdir(exist_ok=True, parents=True)\n",
    "        \n",
    "        num_to_select = round(n * split_frac)\n",
    "        sel_files = np.random.choice(files, size=num_to_select, replace=False)\n",
    "        sel_files_set = set(sel_files)\n",
    "        \n",
    "        files = [f for f in files if f not in sel_files_set]\n",
    "        \n",
    "        print(f\"Selected {len(sel_files)} jpegs to copy to {dest_path}\")\n",
    "        \n",
    "        for jpeg in sel_files:\n",
    "            shutil.copy(jpeg, dest_path)\n",
    "        "
   ]
  },
  {
   "cell_type": "code",
   "execution_count": null,
   "metadata": {},
   "outputs": [],
   "source": []
  }
 ],
 "metadata": {
  "kernelspec": {
   "display_name": "Python 3",
   "language": "python",
   "name": "python3"
  },
  "language_info": {
   "codemirror_mode": {
    "name": "ipython",
    "version": 3
   },
   "file_extension": ".py",
   "mimetype": "text/x-python",
   "name": "python",
   "nbconvert_exporter": "python",
   "pygments_lexer": "ipython3",
   "version": "3.7.5"
  }
 },
 "nbformat": 4,
 "nbformat_minor": 4
}
