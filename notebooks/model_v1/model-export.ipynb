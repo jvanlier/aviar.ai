{
 "cells": [
  {
   "cell_type": "markdown",
   "metadata": {},
   "source": [
    "Turns out I forgot to run the export function after training, and as a result the only way to re-instantiate is by calling it with the ImageDataBunch etc. A bit tedious. This notebook simply loads the ckpt and exports it."
   ]
  },
  {
   "cell_type": "code",
   "execution_count": 1,
   "metadata": {},
   "outputs": [],
   "source": [
    "from pathlib import Path\n",
    "\n",
    "from fastai.vision import *  "
   ]
  },
  {
   "cell_type": "code",
   "execution_count": 2,
   "metadata": {},
   "outputs": [],
   "source": [
    "MODEL_NAME = \"model-fastai-time-with-tfms-less\"\n",
    "DATA_PATH = Path(\"~/data/split-v2-time\").expanduser()\n",
    "CKPT_NAME = f\"{MODEL_NAME}-02epoch-plus02epochlrdiv10-plus08epoch-unfrozen-lrdiv10-plus01epoch-lrdiv10\""
   ]
  },
  {
   "cell_type": "code",
   "execution_count": 3,
   "metadata": {},
   "outputs": [],
   "source": [
    "data = ImageDataBunch.from_folder(DATA_PATH, bs=32)\n",
    "learn = cnn_learner(data, models.resnet18, metrics=accuracy, ps=.6)"
   ]
  },
  {
   "cell_type": "code",
   "execution_count": 7,
   "metadata": {},
   "outputs": [],
   "source": [
    "learn.load(CKPT_NAME);"
   ]
  },
  {
   "cell_type": "code",
   "execution_count": 10,
   "metadata": {},
   "outputs": [],
   "source": [
    "learn.export(Path(\"~/models/2020-05-27_resnet18.pkl\").expanduser())"
   ]
  }
 ],
 "metadata": {
  "kernelspec": {
   "display_name": "Python 2",
   "language": "python",
   "name": "python2"
  },
  "language_info": {
   "codemirror_mode": {
    "name": "ipython",
    "version": 3
   },
   "file_extension": ".py",
   "mimetype": "text/x-python",
   "name": "python",
   "nbconvert_exporter": "python",
   "pygments_lexer": "ipython3",
   "version": "3.7.5"
  }
 },
 "nbformat": 4,
 "nbformat_minor": 4
}
