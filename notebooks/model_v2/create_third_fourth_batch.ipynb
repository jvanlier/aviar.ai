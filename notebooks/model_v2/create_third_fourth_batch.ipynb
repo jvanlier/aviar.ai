{
 "cells": [
  {
   "cell_type": "markdown",
   "metadata": {},
   "source": [
    "Ok, let's see what we have so far:\n",
    "\n",
    "- `cropped-unique`: from 20200426 to 20200510, de-duplicated (roughly) using LSH.\n",
    "- `labeled-first-batch`: from 20200426 to 20200502\n",
    "- `labeled-first-batch`: from 20200503 to 20200510\n",
    "\n",
    "For some reason, the model is showing generalization issues on new data.  I do not understand why this is happening. To debug, I'll create a new batch using randomly sampled images from 20200511 to 20200528. 20200529 is my test set (which is when I saw this issue first occuring when finally deployed to the Raspberry Pi)."
   ]
  },
  {
   "cell_type": "code",
   "execution_count": 44,
   "metadata": {},
   "outputs": [],
   "source": [
    "from pathlib import Path\n",
    "\n",
    "import cv2\n",
    "import numpy as np\n",
    "import pandas as pd\n",
    "from tqdm import tqdm"
   ]
  },
  {
   "cell_type": "code",
   "execution_count": 6,
   "metadata": {},
   "outputs": [],
   "source": [
    "df = pd.DataFrame({\"batch\": [\"first\", \"second\"], \n",
    "                   \"BirdHome\": [4222, 4829], \n",
    "                   \"BirdRoaming\": [1445, 1520]})"
   ]
  },
  {
   "cell_type": "code",
   "execution_count": 7,
   "metadata": {},
   "outputs": [
    {
     "data": {
      "text/html": [
       "<div>\n",
       "<style scoped>\n",
       "    .dataframe tbody tr th:only-of-type {\n",
       "        vertical-align: middle;\n",
       "    }\n",
       "\n",
       "    .dataframe tbody tr th {\n",
       "        vertical-align: top;\n",
       "    }\n",
       "\n",
       "    .dataframe thead th {\n",
       "        text-align: right;\n",
       "    }\n",
       "</style>\n",
       "<table border=\"1\" class=\"dataframe\">\n",
       "  <thead>\n",
       "    <tr style=\"text-align: right;\">\n",
       "      <th></th>\n",
       "      <th>batch</th>\n",
       "      <th>BirdHome</th>\n",
       "      <th>BirdRoaming</th>\n",
       "    </tr>\n",
       "  </thead>\n",
       "  <tbody>\n",
       "    <tr>\n",
       "      <th>0</th>\n",
       "      <td>first</td>\n",
       "      <td>4222</td>\n",
       "      <td>1445</td>\n",
       "    </tr>\n",
       "    <tr>\n",
       "      <th>1</th>\n",
       "      <td>second</td>\n",
       "      <td>4829</td>\n",
       "      <td>1520</td>\n",
       "    </tr>\n",
       "  </tbody>\n",
       "</table>\n",
       "</div>"
      ],
      "text/plain": [
       "    batch  BirdHome  BirdRoaming\n",
       "0   first      4222         1445\n",
       "1  second      4829         1520"
      ]
     },
     "execution_count": 7,
     "metadata": {},
     "output_type": "execute_result"
    }
   ],
   "source": [
    "df.head()"
   ]
  },
  {
   "cell_type": "code",
   "execution_count": 8,
   "metadata": {},
   "outputs": [
    {
     "data": {
      "text/plain": [
       "batch          firstsecond\n",
       "BirdHome              9051\n",
       "BirdRoaming           2965\n",
       "dtype: object"
      ]
     },
     "execution_count": 8,
     "metadata": {},
     "output_type": "execute_result"
    }
   ],
   "source": [
    "df.sum(axis=0)"
   ]
  },
  {
   "cell_type": "code",
   "execution_count": 13,
   "metadata": {},
   "outputs": [
    {
     "data": {
      "text/plain": [
       "12016"
      ]
     },
     "execution_count": 13,
     "metadata": {},
     "output_type": "execute_result"
    }
   ],
   "source": [
    "df.sum(axis=0)[[\"BirdHome\", \"BirdRoaming\"]].sum()"
   ]
  },
  {
   "cell_type": "code",
   "execution_count": 30,
   "metadata": {},
   "outputs": [],
   "source": [
    "RAW_PATH = Path(\"~/Birdcam/data/raw\").expanduser()\n",
    "K = 10000 # How many new ones to add.\n",
    "\n",
    "DATE_START = 20200511\n",
    "DATE_END = 20200528"
   ]
  },
  {
   "cell_type": "code",
   "execution_count": 34,
   "metadata": {},
   "outputs": [
    {
     "name": "stdout",
     "output_type": "stream",
     "text": [
      "Found 24563 JPEGs\n"
     ]
    }
   ],
   "source": [
    "jpeg_paths = []\n",
    "\n",
    "for date in range(DATE_START, DATE_END + 1):\n",
    "    path = RAW_PATH / str(date)\n",
    "    if not path.exists():\n",
    "        print(f\"Error: {path} doesn't exist\")\n",
    "        break\n",
    "    jpeg_paths.extend(list(path.glob(\"*.jpeg\")))\n",
    "    \n",
    "jpeg_paths = sorted(jpeg_paths)\n",
    "print(f\"Found {len(jpeg_paths)} JPEGs\")"
   ]
  },
  {
   "cell_type": "code",
   "execution_count": 40,
   "metadata": {},
   "outputs": [],
   "source": [
    "rnd_jpeg_paths = np.random.choice(jpeg_paths, size=K, replace=False)"
   ]
  },
  {
   "cell_type": "code",
   "execution_count": 41,
   "metadata": {},
   "outputs": [],
   "source": [
    "ROI_Y_MIN = 100\n",
    "ROI_Y_MAX = 1080\n",
    "ROI_X_MIN = 400\n",
    "ROI_X_MAX = 1200\n",
    "\n",
    "def apply_roi(img):\n",
    "    return img[ROI_Y_MIN:ROI_Y_MAX, ROI_X_MIN:ROI_X_MAX]"
   ]
  },
  {
   "cell_type": "code",
   "execution_count": 45,
   "metadata": {},
   "outputs": [],
   "source": [
    "DEST_PATH = RAW_PATH.parent / \"to-be-labeled-third-batch\"\n",
    "DEST_PATH.mkdir()"
   ]
  },
  {
   "cell_type": "code",
   "execution_count": 46,
   "metadata": {},
   "outputs": [
    {
     "name": "stderr",
     "output_type": "stream",
     "text": [
      "100%|██████████| 10000/10000 [05:37<00:00, 29.59it/s]\n"
     ]
    }
   ],
   "source": [
    "for jpeg_path in tqdm(rnd_jpeg_paths):\n",
    "    img = cv2.imread(str(jpeg_path))\n",
    "    img_crop = apply_roi(img)\n",
    "    cv2.imwrite(str(DEST_PATH / jpeg_path.name), img_crop, [cv2.IMWRITE_JPEG_QUALITY, 80])"
   ]
  },
  {
   "cell_type": "markdown",
   "metadata": {},
   "source": [
    "N.b.: after labeling 5k, I assigned the remainder to batch 4.\n",
    "\n",
    "Batch 4 is from `20200514T205401` to `20200523T065401`. Batch 3 is before and after those timestamps (I labeled some from the start and some from the end)"
   ]
  }
 ],
 "metadata": {
  "kernelspec": {
   "display_name": "Python 3",
   "language": "python",
   "name": "python3"
  },
  "language_info": {
   "codemirror_mode": {
    "name": "ipython",
    "version": 3
   },
   "file_extension": ".py",
   "mimetype": "text/x-python",
   "name": "python",
   "nbconvert_exporter": "python",
   "pygments_lexer": "ipython3",
   "version": "3.8.2"
  }
 },
 "nbformat": 4,
 "nbformat_minor": 4
}
